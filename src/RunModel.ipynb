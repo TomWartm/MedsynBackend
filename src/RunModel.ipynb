{
 "cells": [
  {
   "cell_type": "code",
   "execution_count": 1,
   "id": "5d3a0721",
   "metadata": {},
   "outputs": [
    {
     "name": "stderr",
     "output_type": "stream",
     "text": [
      "/jet/home/wartmann/.conda/envs/medsyn-3-8/lib/python3.8/site-packages/tqdm/auto.py:21: TqdmWarning: IProgress not found. Please update jupyter and ipywidgets. See https://ipywidgets.readthedocs.io/en/stable/user_install.html\n",
      "  from .autonotebook import tqdm as notebook_tqdm\n"
     ]
    }
   ],
   "source": [
    "from extract_text import TextExtractor\n"
   ]
  },
  {
   "cell_type": "markdown",
   "id": "88dafa64",
   "metadata": {},
   "source": [
    "## Text Extraction"
   ]
  },
  {
   "cell_type": "markdown",
   "id": "354674a4",
   "metadata": {},
   "source": [
    "### Radiopedia"
   ]
  },
  {
   "cell_type": "code",
   "execution_count": 2,
   "id": "97728b07",
   "metadata": {},
   "outputs": [
    {
     "name": "stdout",
     "output_type": "stream",
     "text": [
      "cuda\n"
     ]
    },
    {
     "name": "stderr",
     "output_type": "stream",
     "text": [
      "/jet/home/wartmann/.conda/envs/medsyn-3-8/lib/python3.8/site-packages/huggingface_hub/file_download.py:1132: FutureWarning: `resume_download` is deprecated and will be removed in version 1.0.0. Downloads always resume when possible. If you want to force a new download, use `force_download=True`.\n",
      "  warnings.warn(\n",
      "Some weights of CXRBertModel were not initialized from the model checkpoint at microsoft/BiomedVLP-CXR-BERT-specialized and are newly initialized: ['classifier.bias', 'classifier.weight']\n",
      "You should probably TRAIN this model on a down-stream task to be able to use it for predictions and inference.\n"
     ]
    },
    {
     "name": "stdout",
     "output_type": "stream",
     "text": [
      "<All keys matched successfully>\n",
      "File already exists: /ocean/projects/cis210093p/wartmann/MedSyn/results/ctrate/text_embed/3_1_2.npy\n"
     ]
    }
   ],
   "source": [
    "impressions=\"Cardiomegaly, minimal pericardial-pleural effusion.\"\n",
    "output_folder = \"/ocean/projects/cis210093p/wartmann/MedSyn/results/ctrate/text_embed\"\n",
    "file_name='3_1_2.npy'\n",
    "text_extractor = TextExtractor(resume_model='/ocean/projects/cis210093p/wartmann/MedSyn/models/test_run2',)\n",
    "text_extractor.run(impressions, output_folder, file_name)"
   ]
  },
  {
   "cell_type": "code",
   "execution_count": 3,
   "id": "2b2806e9",
   "metadata": {},
   "outputs": [
    {
     "name": "stdout",
     "output_type": "stream",
     "text": [
      "cuda\n"
     ]
    },
    {
     "name": "stderr",
     "output_type": "stream",
     "text": [
      "Some weights of CXRBertModel were not initialized from the model checkpoint at microsoft/BiomedVLP-CXR-BERT-specialized and are newly initialized: ['classifier.bias', 'classifier.weight']\n",
      "You should probably TRAIN this model on a down-stream task to be able to use it for predictions and inference.\n"
     ]
    },
    {
     "name": "stdout",
     "output_type": "stream",
     "text": [
      "<All keys matched successfully>\n",
      "(1, 192, 768)\n",
      "Saved to: /ocean/projects/cis210093p/wartmann/MedSyn/results/ctrate/text_embed/3_1_3.npy\n"
     ]
    }
   ],
   "source": [
    "impressions=\"Consolidation areas in both lung lower lobes prominent.\"\n",
    "output_folder = \"/ocean/projects/cis210093p/wartmann/MedSyn/results/ctrate/text_embed\"\n",
    "file_name='3_1_3.npy'\n",
    "text_extractor = TextExtractor(resume_model='/ocean/projects/cis210093p/wartmann/MedSyn/models/test_run2',)\n",
    "text_extractor.run(impressions, output_folder, file_name)"
   ]
  },
  {
   "cell_type": "code",
   "execution_count": 4,
   "id": "9a7d65f3",
   "metadata": {},
   "outputs": [
    {
     "name": "stdout",
     "output_type": "stream",
     "text": [
      "cuda\n"
     ]
    },
    {
     "name": "stderr",
     "output_type": "stream",
     "text": [
      "Some weights of CXRBertModel were not initialized from the model checkpoint at microsoft/BiomedVLP-CXR-BERT-specialized and are newly initialized: ['classifier.bias', 'classifier.weight']\n",
      "You should probably TRAIN this model on a down-stream task to be able to use it for predictions and inference.\n"
     ]
    },
    {
     "name": "stdout",
     "output_type": "stream",
     "text": [
      "<All keys matched successfully>\n",
      "(1, 192, 768)\n",
      "Saved to: /ocean/projects/cis210093p/wartmann/MedSyn/results/ctrate/text_embed/3_1_4.npy\n"
     ]
    }
   ],
   "source": [
    "impressions=\"Atelectasis in the lingular segment of the left lung.\"\n",
    "output_folder = \"/ocean/projects/cis210093p/wartmann/MedSyn/results/ctrate/text_embed\"\n",
    "file_name='3_1_4.npy'\n",
    "text_extractor = TextExtractor(resume_model='/ocean/projects/cis210093p/wartmann/MedSyn/models/test_run2',)\n",
    "text_extractor.run(impressions, output_folder, file_name)"
   ]
  },
  {
   "cell_type": "code",
   "execution_count": 5,
   "id": "e0471180",
   "metadata": {},
   "outputs": [
    {
     "name": "stdout",
     "output_type": "stream",
     "text": [
      "cuda\n"
     ]
    },
    {
     "name": "stderr",
     "output_type": "stream",
     "text": [
      "Some weights of CXRBertModel were not initialized from the model checkpoint at microsoft/BiomedVLP-CXR-BERT-specialized and are newly initialized: ['classifier.bias', 'classifier.weight']\n",
      "You should probably TRAIN this model on a down-stream task to be able to use it for predictions and inference.\n"
     ]
    },
    {
     "name": "stdout",
     "output_type": "stream",
     "text": [
      "<All keys matched successfully>\n",
      "(1, 192, 768)\n",
      "Saved to: /ocean/projects/cis210093p/wartmann/MedSyn/results/ctrate/text_embed/3_2_2.npy\n"
     ]
    }
   ],
   "source": [
    "impressions=\"Cardiomegaly, minimal pericardial-pleural effusion.\"\n",
    "output_folder = \"/ocean/projects/cis210093p/wartmann/MedSyn/results/ctrate/text_embed\"\n",
    "file_name='3_2_2.npy'\n",
    "text_extractor = TextExtractor(resume_model='/ocean/projects/cis210093p/wartmann/MedSyn/models/test_run2',)\n",
    "text_extractor.run(impressions, output_folder, file_name)"
   ]
  },
  {
   "cell_type": "code",
   "execution_count": 6,
   "id": "80bdb25c",
   "metadata": {},
   "outputs": [
    {
     "name": "stdout",
     "output_type": "stream",
     "text": [
      "cuda\n"
     ]
    },
    {
     "name": "stderr",
     "output_type": "stream",
     "text": [
      "Some weights of CXRBertModel were not initialized from the model checkpoint at microsoft/BiomedVLP-CXR-BERT-specialized and are newly initialized: ['classifier.bias', 'classifier.weight']\n",
      "You should probably TRAIN this model on a down-stream task to be able to use it for predictions and inference.\n"
     ]
    },
    {
     "name": "stdout",
     "output_type": "stream",
     "text": [
      "<All keys matched successfully>\n",
      "(1, 192, 768)\n",
      "Saved to: /ocean/projects/cis210093p/wartmann/MedSyn/results/ctrate/text_embed/3_2_3.npy\n"
     ]
    }
   ],
   "source": [
    "impressions=\"Cardiomegaly, large pericardial-pleural effusion.\"\n",
    "output_folder = \"/ocean/projects/cis210093p/wartmann/MedSyn/results/ctrate/text_embed\"\n",
    "file_name='3_2_3.npy'\n",
    "text_extractor = TextExtractor(resume_model='/ocean/projects/cis210093p/wartmann/MedSyn/models/test_run2',)\n",
    "text_extractor.run(impressions, output_folder, file_name)"
   ]
  },
  {
   "cell_type": "code",
   "execution_count": 2,
   "id": "d9cc7d8b",
   "metadata": {},
   "outputs": [
    {
     "name": "stdout",
     "output_type": "stream",
     "text": [
      "cuda\n"
     ]
    },
    {
     "name": "stderr",
     "output_type": "stream",
     "text": [
      "/jet/home/wartmann/.conda/envs/medsyn-3-8/lib/python3.8/site-packages/huggingface_hub/file_download.py:1132: FutureWarning: `resume_download` is deprecated and will be removed in version 1.0.0. Downloads always resume when possible. If you want to force a new download, use `force_download=True`.\n",
      "  warnings.warn(\n",
      "Some weights of CXRBertModel were not initialized from the model checkpoint at microsoft/BiomedVLP-CXR-BERT-specialized and are newly initialized: ['classifier.bias', 'classifier.weight']\n",
      "You should probably TRAIN this model on a down-stream task to be able to use it for predictions and inference.\n"
     ]
    },
    {
     "name": "stdout",
     "output_type": "stream",
     "text": [
      "<All keys matched successfully>\n",
      "(1, 192, 768)\n",
      "Saved to: /ocean/projects/cis210093p/wartmann/MedSyn/results/ctrate/text_embed/3_2_4.npy\n"
     ]
    }
   ],
   "source": [
    "impressions=\"Cardiomegaly, no pericardial-pleural effusion.\"\n",
    "output_folder = \"/ocean/projects/cis210093p/wartmann/MedSyn/results/ctrate/text_embed\"\n",
    "file_name='3_2_4.npy'\n",
    "text_extractor = TextExtractor(resume_model='/ocean/projects/cis210093p/wartmann/MedSyn/models/test_run2',)\n",
    "text_extractor.run(impressions, output_folder, file_name)"
   ]
  },
  {
   "cell_type": "markdown",
   "id": "15867e0e",
   "metadata": {},
   "source": [
    "# Low Res\n"
   ]
  },
  {
   "cell_type": "code",
   "execution_count": 3,
   "id": "f7880572",
   "metadata": {},
   "outputs": [
    {
     "name": "stdout",
     "output_type": "stream",
     "text": [
      "Number of parameters: 716215684\n",
      "Selected timesteps for ddim sampler: [  1   6  11  16  21  26  31  36  41  46  51  56  61  66  71  76  81  86\n",
      "  91  96 101 106 111 116 121 126 131 136 141 146 151 156 161 166 171 176\n",
      " 181 186 191 196 201 206 211 216 221 226 231 236 241 246 251 256 261 266\n",
      " 271 276 281 286 291 296 301 306 311 316 321 326 331 336 341 346 351 356\n",
      " 361 366 371 376 381 386 391 396 401 406 411 416 421 426 431 436 441 446\n",
      " 451 456 461 466 471 476 481 486 491 496 501 506 511 516 521 526 531 536\n",
      " 541 546 551 556 561 566 571 576 581 586 591 596 601 606 611 616 621 626\n",
      " 631 636 641 646 651 656 661 666 671 676 681 686 691 696 701 706 711 716\n",
      " 721 726 731 736 741 746 751 756 761 766 771 776 781 786 791 796 801 806\n",
      " 811 816 821 826 831 836 841 846 851 856 861 866 871 876 881 886 891 896\n",
      " 901 906 911 916 921 926 931 936 941 946 951 956 961 966 971 976 981 986\n",
      " 991 996]\n",
      "Selected alphas for ddim sampler: a_t: tensor([9.9991e-01, 9.9961e-01, 9.9918e-01, 9.9864e-01, 9.9797e-01, 9.9718e-01,\n",
      "        9.9627e-01, 9.9525e-01, 9.9410e-01, 9.9283e-01, 9.9144e-01, 9.8993e-01,\n",
      "        9.8830e-01, 9.8656e-01, 9.8469e-01, 9.8271e-01, 9.8061e-01, 9.7840e-01,\n",
      "        9.7606e-01, 9.7362e-01, 9.7105e-01, 9.6838e-01, 9.6559e-01, 9.6268e-01,\n",
      "        9.5967e-01, 9.5654e-01, 9.5330e-01, 9.4995e-01, 9.4650e-01, 9.4293e-01,\n",
      "        9.3926e-01, 9.3548e-01, 9.3159e-01, 9.2760e-01, 9.2351e-01, 9.1931e-01,\n",
      "        9.1501e-01, 9.1061e-01, 9.0611e-01, 9.0151e-01, 8.9682e-01, 8.9202e-01,\n",
      "        8.8714e-01, 8.8216e-01, 8.7708e-01, 8.7192e-01, 8.6666e-01, 8.6132e-01,\n",
      "        8.5588e-01, 8.5036e-01, 8.4476e-01, 8.3907e-01, 8.3330e-01, 8.2745e-01,\n",
      "        8.2152e-01, 8.1551e-01, 8.0943e-01, 8.0327e-01, 7.9703e-01, 7.9073e-01,\n",
      "        7.8435e-01, 7.7791e-01, 7.7139e-01, 7.6481e-01, 7.5817e-01, 7.5147e-01,\n",
      "        7.4470e-01, 7.3787e-01, 7.3099e-01, 7.2405e-01, 7.1705e-01, 7.1001e-01,\n",
      "        7.0291e-01, 6.9576e-01, 6.8857e-01, 6.8132e-01, 6.7404e-01, 6.6671e-01,\n",
      "        6.5935e-01, 6.5194e-01, 6.4450e-01, 6.3702e-01, 6.2951e-01, 6.2196e-01,\n",
      "        6.1439e-01, 6.0679e-01, 5.9917e-01, 5.9152e-01, 5.8384e-01, 5.7615e-01,\n",
      "        5.6844e-01, 5.6071e-01, 5.5297e-01, 5.4521e-01, 5.3745e-01, 5.2967e-01,\n",
      "        5.2189e-01, 5.1410e-01, 5.0631e-01, 4.9852e-01, 4.9073e-01, 4.8294e-01,\n",
      "        4.7515e-01, 4.6737e-01, 4.5960e-01, 4.5184e-01, 4.4409e-01, 4.3635e-01,\n",
      "        4.2863e-01, 4.2092e-01, 4.1324e-01, 4.0558e-01, 3.9794e-01, 3.9032e-01,\n",
      "        3.8273e-01, 3.7517e-01, 3.6764e-01, 3.6014e-01, 3.5268e-01, 3.4525e-01,\n",
      "        3.3786e-01, 3.3051e-01, 3.2320e-01, 3.1593e-01, 3.0871e-01, 3.0153e-01,\n",
      "        2.9440e-01, 2.8732e-01, 2.8030e-01, 2.7332e-01, 2.6641e-01, 2.5955e-01,\n",
      "        2.5274e-01, 2.4600e-01, 2.3932e-01, 2.3270e-01, 2.2615e-01, 2.1966e-01,\n",
      "        2.1324e-01, 2.0690e-01, 2.0062e-01, 1.9441e-01, 1.8828e-01, 1.8223e-01,\n",
      "        1.7625e-01, 1.7035e-01, 1.6453e-01, 1.5880e-01, 1.5314e-01, 1.4757e-01,\n",
      "        1.4209e-01, 1.3669e-01, 1.3138e-01, 1.2616e-01, 1.2103e-01, 1.1600e-01,\n",
      "        1.1105e-01, 1.0620e-01, 1.0145e-01, 9.6793e-02, 9.2234e-02, 8.7774e-02,\n",
      "        8.3414e-02, 7.9156e-02, 7.5000e-02, 7.0947e-02, 6.6998e-02, 6.3154e-02,\n",
      "        5.9416e-02, 5.5786e-02, 5.2263e-02, 4.8849e-02, 4.5545e-02, 4.2351e-02,\n",
      "        3.9268e-02, 3.6297e-02, 3.3439e-02, 3.0694e-02, 2.8063e-02, 2.5546e-02,\n",
      "        2.3145e-02, 2.0860e-02, 1.8691e-02, 1.6639e-02, 1.4704e-02, 1.2887e-02,\n",
      "        1.1189e-02, 9.6089e-03, 8.1482e-03, 6.8069e-03, 5.5855e-03, 4.4841e-03,\n",
      "        3.5030e-03, 2.6426e-03, 1.9029e-03, 1.2843e-03, 7.8671e-04, 4.1041e-04,\n",
      "        1.5543e-04, 2.1859e-05], dtype=torch.float64); a_(t-1): [9.99958716e-01 9.99912576e-01 9.99609060e-01 9.99184240e-01\n",
      " 9.98638220e-01 9.97971133e-01 9.97183140e-01 9.96274433e-01\n",
      " 9.95245233e-01 9.94095789e-01 9.92826380e-01 9.91437315e-01\n",
      " 9.89928931e-01 9.88301595e-01 9.86555701e-01 9.84691673e-01\n",
      " 9.82709965e-01 9.80611057e-01 9.78395459e-01 9.76063709e-01\n",
      " 9.73616373e-01 9.71054047e-01 9.68377350e-01 9.65586935e-01\n",
      " 9.62683478e-01 9.59667685e-01 9.56540287e-01 9.53302045e-01\n",
      " 9.49953745e-01 9.46496199e-01 9.42930247e-01 9.39256756e-01\n",
      " 9.35476617e-01 9.31590748e-01 9.27600093e-01 9.23505621e-01\n",
      " 9.19308326e-01 9.15009228e-01 9.10609370e-01 9.06109820e-01\n",
      " 9.01511673e-01 8.96816043e-01 8.92024072e-01 8.87136923e-01\n",
      " 8.82155783e-01 8.77081861e-01 8.71916389e-01 8.66660623e-01\n",
      " 8.61315837e-01 8.55883331e-01 8.50364422e-01 8.44760453e-01\n",
      " 8.39072782e-01 8.33302792e-01 8.27451883e-01 8.21521477e-01\n",
      " 8.15513013e-01 8.09427950e-01 8.03267767e-01 7.97033959e-01\n",
      " 7.90728040e-01 7.84351541e-01 7.77906010e-01 7.71393013e-01\n",
      " 7.64814132e-01 7.58170963e-01 7.51465121e-01 7.44698233e-01\n",
      " 7.37871943e-01 7.30987909e-01 7.24047801e-01 7.17053306e-01\n",
      " 7.10006122e-01 7.02907960e-01 6.95760544e-01 6.88565609e-01\n",
      " 6.81324903e-01 6.74040184e-01 6.66713221e-01 6.59345793e-01\n",
      " 6.51939690e-01 6.44496709e-01 6.37018658e-01 6.29507354e-01\n",
      " 6.21964619e-01 6.14392286e-01 6.06792194e-01 5.99166187e-01\n",
      " 5.91516119e-01 5.83843846e-01 5.76151232e-01 5.68440145e-01\n",
      " 5.60712457e-01 5.52970045e-01 5.45214788e-01 5.37448571e-01\n",
      " 5.29673279e-01 5.21890800e-01 5.14103024e-01 5.06311843e-01\n",
      " 4.98519147e-01 4.90726830e-01 4.82936784e-01 4.75150900e-01\n",
      " 4.67371069e-01 4.59599181e-01 4.51837122e-01 4.44086777e-01\n",
      " 4.36350029e-01 4.28628756e-01 4.20924834e-01 4.13240132e-01\n",
      " 4.05576518e-01 3.97935852e-01 3.90319989e-01 3.82730780e-01\n",
      " 3.75170066e-01 3.67639684e-01 3.60141462e-01 3.52677222e-01\n",
      " 3.45248776e-01 3.37857927e-01 3.30506471e-01 3.23196193e-01\n",
      " 3.15928867e-01 3.08706260e-01 3.01530123e-01 2.94402201e-01\n",
      " 2.87324224e-01 2.80297911e-01 2.73324968e-01 2.66407088e-01\n",
      " 2.59545951e-01 2.52743224e-01 2.46000558e-01 2.39319591e-01\n",
      " 2.32701944e-01 2.26149226e-01 2.19663027e-01 2.13244922e-01\n",
      " 2.06896470e-01 2.00619212e-01 1.94414674e-01 1.88284360e-01\n",
      " 1.82229761e-01 1.76252346e-01 1.70353567e-01 1.64534856e-01\n",
      " 1.58797627e-01 1.53143272e-01 1.47573164e-01 1.42088657e-01\n",
      " 1.36691082e-01 1.31381750e-01 1.26161949e-01 1.21032948e-01\n",
      " 1.15995992e-01 1.11052304e-01 1.06203085e-01 1.01449513e-01\n",
      " 9.67927403e-02 9.22338995e-02 8.77740971e-02 8.34144161e-02\n",
      " 7.91559153e-02 7.49996287e-02 7.09465655e-02 6.69977102e-02\n",
      " 6.31540214e-02 5.94164327e-02 5.57858516e-02 5.22631598e-02\n",
      " 4.88492127e-02 4.55448394e-02 4.23508421e-02 3.92679967e-02\n",
      " 3.62970516e-02 3.34387283e-02 3.06937209e-02 2.80626960e-02\n",
      " 2.55462926e-02 2.31451216e-02 2.08597662e-02 1.86907812e-02\n",
      " 1.66386936e-02 1.47040014e-02 1.28871746e-02 1.11886544e-02\n",
      " 9.60885310e-03 8.14815447e-03 6.80691318e-03 5.58545492e-03\n",
      " 4.48407630e-03 3.50304479e-03 2.64259860e-03 1.90294669e-03\n",
      " 1.28426866e-03 7.86714754e-04 4.10405792e-04 1.55433155e-04]\n",
      "For the chosen value of eta, which is 0, this results in the following sigma_t schedule for ddim sampler tensor([0., 0., 0., 0., 0., 0., 0., 0., 0., 0., 0., 0., 0., 0., 0., 0., 0., 0., 0., 0., 0., 0., 0., 0.,\n",
      "        0., 0., 0., 0., 0., 0., 0., 0., 0., 0., 0., 0., 0., 0., 0., 0., 0., 0., 0., 0., 0., 0., 0., 0.,\n",
      "        0., 0., 0., 0., 0., 0., 0., 0., 0., 0., 0., 0., 0., 0., 0., 0., 0., 0., 0., 0., 0., 0., 0., 0.,\n",
      "        0., 0., 0., 0., 0., 0., 0., 0., 0., 0., 0., 0., 0., 0., 0., 0., 0., 0., 0., 0., 0., 0., 0., 0.,\n",
      "        0., 0., 0., 0., 0., 0., 0., 0., 0., 0., 0., 0., 0., 0., 0., 0., 0., 0., 0., 0., 0., 0., 0., 0.,\n",
      "        0., 0., 0., 0., 0., 0., 0., 0., 0., 0., 0., 0., 0., 0., 0., 0., 0., 0., 0., 0., 0., 0., 0., 0.,\n",
      "        0., 0., 0., 0., 0., 0., 0., 0., 0., 0., 0., 0., 0., 0., 0., 0., 0., 0., 0., 0., 0., 0., 0., 0.,\n",
      "        0., 0., 0., 0., 0., 0., 0., 0., 0., 0., 0., 0., 0., 0., 0., 0., 0., 0., 0., 0., 0., 0., 0., 0.,\n",
      "        0., 0., 0., 0., 0., 0., 0., 0.], dtype=torch.float64)\n",
      "/ocean/projects/cis210093p/wartmann/MedSyn/models/medsyn_params/stage1\n",
      "found 18 videos as gif files at /ocean/projects/cis210093p/wartmann/MedSyn/results/ctrate/text_embed\n"
     ]
    },
    {
     "name": "stderr",
     "output_type": "stream",
     "text": [
      "Detected kernel version 4.18.0, which is below the recommended minimum of 5.5.0; this can cause the process to hang. It is recommended to upgrade the kernel to the minimum version or higher.\n"
     ]
    },
    {
     "name": "stdout",
     "output_type": "stream",
     "text": [
      "loading model...\n",
      "['1000_ckpt', 'given_text_ddim_eval']\n",
      "Accelerator load:/ocean/projects/cis210093p/wartmann/MedSyn/models/medsyn_params/stage1/1000_ckpt\n",
      "training model...\n",
      "File already exists: /ocean/projects/cis210093p/wartmann/MedSyn/results/ctrate/img_64_standard/3_1_2_sample_0.npy\n",
      "File already exists: /ocean/projects/cis210093p/wartmann/MedSyn/results/ctrate/img_64_standard/train_1_a_1_sample_0.npy\n",
      "File already exists: /ocean/projects/cis210093p/wartmann/MedSyn/results/ctrate/img_64_standard/3_2_3_sample_0.npy\n",
      "File already exists: /ocean/projects/cis210093p/wartmann/MedSyn/results/ctrate/img_64_standard/train_100_a_1_sample_0.npy\n",
      "File already exists: /ocean/projects/cis210093p/wartmann/MedSyn/results/ctrate/img_64_standard/train_1001_a_1_sample_0.npy\n",
      "File already exists: /ocean/projects/cis210093p/wartmann/MedSyn/results/ctrate/img_64_standard/train_1000_a_1_sample_0.npy\n",
      "File already exists: /ocean/projects/cis210093p/wartmann/MedSyn/results/ctrate/img_64_standard/train_101_a_1_sample_0.npy\n",
      "File already exists: /ocean/projects/cis210093p/wartmann/MedSyn/results/ctrate/img_64_standard/train_1_a_1_counterf_2_sample_0.npy\n",
      "File already exists: /ocean/projects/cis210093p/wartmann/MedSyn/results/ctrate/img_64_standard/train_1_a_1_counterf_1_sample_0.npy\n",
      "File already exists: /ocean/projects/cis210093p/wartmann/MedSyn/results/ctrate/img_64_standard/train_100_a_1_counterf_1_sample_0.npy\n",
      "File already exists: /ocean/projects/cis210093p/wartmann/MedSyn/results/ctrate/img_64_standard/train_1001_a_1_counterf_1_sample_0.npy\n"
     ]
    },
    {
     "name": "stderr",
     "output_type": "stream",
     "text": [
      "sampling loop time step: 100%|██████████| 51/51 [01:04<00:00,  1.26s/it]"
     ]
    },
    {
     "name": "stdout",
     "output_type": "stream",
     "text": [
      "File already exists: /ocean/projects/cis210093p/wartmann/MedSyn/results/ctrate/img_64_standard/train_1000_a_1_counterf_1_sample_0.npy\n",
      "File already exists: /ocean/projects/cis210093p/wartmann/MedSyn/results/ctrate/img_64_standard/3_2_2_sample_0.npy\n",
      "File already exists: /ocean/projects/cis210093p/wartmann/MedSyn/results/ctrate/img_64_standard/3_1_4_sample_0.npy\n",
      "File already exists: /ocean/projects/cis210093p/wartmann/MedSyn/results/ctrate/img_64_standard/train_1001_a_1_counterf_2_sample_0.npy\n",
      "File already exists: /ocean/projects/cis210093p/wartmann/MedSyn/results/ctrate/img_64_standard/3_1_3_sample_0.npy\n",
      "File already exists: /ocean/projects/cis210093p/wartmann/MedSyn/results/ctrate/img_64_standard/train_10_a_1_sample_0.npy\n"
     ]
    },
    {
     "name": "stderr",
     "output_type": "stream",
     "text": [
      "\n"
     ]
    }
   ],
   "source": [
    "from video_diffusion_pytorch_low_res_continuous_time_improve_unet_seg_eval_given_prompt import run_diffusion_1\n",
    "run_diffusion_1(input_folder=\"/ocean/projects/cis210093p/wartmann/MedSyn/results/ctrate/text_embed\", \n",
    "                output_folder='/ocean/projects/cis210093p/wartmann/MedSyn/results/ctrate/img_64_standard', \n",
    "                model_folder='/ocean/projects/cis210093p/wartmann/MedSyn/models/medsyn_params/stage1',\n",
    "                num_sample=1)"
   ]
  },
  {
   "cell_type": "markdown",
   "id": "918fd08a",
   "metadata": {},
   "source": [
    "# High res"
   ]
  },
  {
   "cell_type": "code",
   "execution_count": 1,
   "id": "89a46208",
   "metadata": {},
   "outputs": [
    {
     "name": "stderr",
     "output_type": "stream",
     "text": [
      "/jet/home/wartmann/.conda/envs/medsyn-3-8/lib/python3.8/site-packages/tqdm/auto.py:21: TqdmWarning: IProgress not found. Please update jupyter and ipywidgets. See https://ipywidgets.readthedocs.io/en/stable/user_install.html\n",
      "  from .autonotebook import tqdm as notebook_tqdm\n"
     ]
    },
    {
     "name": "stdout",
     "output_type": "stream",
     "text": [
      "Number of parameters: 54307908\n",
      "Map Location: cuda\n",
      "Model path: /ocean/projects/cis210093p/wartmann/MedSyn/models/medsyn_params/stage2/1000_ckpt/pytorch_model.bin\n"
     ]
    },
    {
     "name": "stderr",
     "output_type": "stream",
     "text": [
      "Loading dataset: 100%|██████████| 34/34 [00:00<00:00, 692.38it/s]\n",
      "Detected kernel version 4.18.0, which is below the recommended minimum of 5.5.0; this can cause the process to hang. It is recommended to upgrade the kernel to the minimum version or higher.\n"
     ]
    },
    {
     "name": "stdout",
     "output_type": "stream",
     "text": [
      "found 34 videos as gif files at /ocean/projects/cis210093p/wartmann/MedSyn/results/ctrate/img_64_standard\n",
      "loading model...\n",
      "Load accelerator state: /ocean/projects/cis210093p/wartmann/MedSyn/models/medsyn_params/stage2/1000_ckpt\n",
      "training model...\n",
      "num_samples: 1\n",
      "File already exists: /ocean/projects/cis210093p/wartmann/MedSyn/results/ctrate/img_256_standard/train_1001_a_1_sample_0.nii.gz\n",
      "num_samples: 1\n",
      "File already exists: /ocean/projects/cis210093p/wartmann/MedSyn/results/ctrate/img_256_standard/train_1001_a_1_counterf_2_sample_1.nii.gz\n",
      "num_samples: 1\n",
      "File already exists: /ocean/projects/cis210093p/wartmann/MedSyn/results/ctrate/img_256_standard/train_1_a_1_sample_1.nii.gz\n",
      "num_samples: 1\n",
      "File already exists: /ocean/projects/cis210093p/wartmann/MedSyn/results/ctrate/img_256_standard/train_101_a_1_sample_1.nii.gz\n",
      "num_samples: 1\n",
      "File already exists: /ocean/projects/cis210093p/wartmann/MedSyn/results/ctrate/img_256_standard/train_1_a_1_sample_2.nii.gz\n",
      "num_samples: 1\n",
      "File already exists: /ocean/projects/cis210093p/wartmann/MedSyn/results/ctrate/img_256_standard/train_1_a_1_counterf_1_sample_0.nii.gz\n",
      "num_samples: 1\n",
      "File already exists: /ocean/projects/cis210093p/wartmann/MedSyn/results/ctrate/img_256_standard/train_100_a_1_sample_2.nii.gz\n",
      "num_samples: 1\n",
      "File already exists: /ocean/projects/cis210093p/wartmann/MedSyn/results/ctrate/img_256_standard/train_1001_a_1_counterf_2_sample_2.nii.gz\n",
      "num_samples: 1\n",
      "File already exists: /ocean/projects/cis210093p/wartmann/MedSyn/results/ctrate/img_256_standard/3_1_4_sample_0.nii.gz\n",
      "num_samples: 1\n"
     ]
    },
    {
     "name": "stderr",
     "output_type": "stream",
     "text": [
      "sampling loop time step:   0%|          | 0/21 [00:00<?, ?it/s]/jet/home/wartmann/.conda/envs/medsyn-3-8/lib/python3.8/site-packages/torch/nn/modules/conv.py:605: UserWarning: Plan failed with a cudnnException: CUDNN_BACKEND_EXECUTION_PLAN_DESCRIPTOR: cudnnFinalize Descriptor Failed cudnn_status: CUDNN_STATUS_NOT_SUPPORTED (Triggered internally at ../aten/src/ATen/native/cudnn/Conv_v8.cpp:919.)\n",
      "  return F.conv3d(\n",
      "sampling loop time step: 100%|██████████| 21/21 [03:00<00:00,  8.57s/it]\n"
     ]
    },
    {
     "name": "stdout",
     "output_type": "stream",
     "text": [
      "num_samples: 1\n",
      "File already exists: /ocean/projects/cis210093p/wartmann/MedSyn/results/ctrate/img_256_standard/3_1_2_sample_0.nii.gz\n",
      "num_samples: 1\n",
      "File already exists: /ocean/projects/cis210093p/wartmann/MedSyn/results/ctrate/img_256_standard/train_1001_a_1_counterf_1_sample_2.nii.gz\n",
      "num_samples: 1\n",
      "File already exists: /ocean/projects/cis210093p/wartmann/MedSyn/results/ctrate/img_256_standard/train_1001_a_1_sample_1.nii.gz\n",
      "num_samples: 1\n",
      "File already exists: /ocean/projects/cis210093p/wartmann/MedSyn/results/ctrate/img_256_standard/train_1001_a_1_counterf_1_sample_0.nii.gz\n",
      "num_samples: 1\n",
      "File already exists: /ocean/projects/cis210093p/wartmann/MedSyn/results/ctrate/img_256_standard/train_1001_a_1_counterf_1_sample_1.nii.gz\n",
      "num_samples: 1\n",
      "File already exists: /ocean/projects/cis210093p/wartmann/MedSyn/results/ctrate/img_256_standard/3_2_3_sample_0.nii.gz\n",
      "num_samples: 1\n",
      "File already exists: /ocean/projects/cis210093p/wartmann/MedSyn/results/ctrate/img_256_standard/train_1000_a_1_counterf_1_sample_0.nii.gz\n",
      "num_samples: 1\n",
      "File already exists: /ocean/projects/cis210093p/wartmann/MedSyn/results/ctrate/img_256_standard/train_10_a_1_sample_1.nii.gz\n",
      "num_samples: 1\n",
      "File already exists: /ocean/projects/cis210093p/wartmann/MedSyn/results/ctrate/img_256_standard/train_101_a_1_sample_2.nii.gz\n",
      "num_samples: 1\n",
      "File already exists: /ocean/projects/cis210093p/wartmann/MedSyn/results/ctrate/img_256_standard/train_100_a_1_sample_0.nii.gz\n",
      "num_samples: 1\n",
      "File already exists: /ocean/projects/cis210093p/wartmann/MedSyn/results/ctrate/img_256_standard/train_1001_a_1_counterf_2_sample_0.nii.gz\n",
      "num_samples: 1\n",
      "File already exists: /ocean/projects/cis210093p/wartmann/MedSyn/results/ctrate/img_256_standard/train_1001_a_1_sample_2.nii.gz\n",
      "num_samples: 1\n",
      "File already exists: /ocean/projects/cis210093p/wartmann/MedSyn/results/ctrate/img_256_standard/3_1_3_sample_0.nii.gz\n",
      "num_samples: 1\n",
      "File already exists: /ocean/projects/cis210093p/wartmann/MedSyn/results/ctrate/img_256_standard/3_2_2_sample_0.nii.gz\n",
      "num_samples: 1\n",
      "File already exists: /ocean/projects/cis210093p/wartmann/MedSyn/results/ctrate/img_256_standard/train_100_a_1_sample_1.nii.gz\n",
      "num_samples: 1\n",
      "File already exists: /ocean/projects/cis210093p/wartmann/MedSyn/results/ctrate/img_256_standard/train_1000_a_1_sample_0.nii.gz\n",
      "num_samples: 1\n",
      "File already exists: /ocean/projects/cis210093p/wartmann/MedSyn/results/ctrate/img_256_standard/train_1000_a_1_sample_1.nii.gz\n",
      "num_samples: 1\n",
      "File already exists: /ocean/projects/cis210093p/wartmann/MedSyn/results/ctrate/img_256_standard/train_1_a_1_sample_0.nii.gz\n",
      "num_samples: 1\n",
      "File already exists: /ocean/projects/cis210093p/wartmann/MedSyn/results/ctrate/img_256_standard/train_101_a_1_sample_0.nii.gz\n",
      "num_samples: 1\n",
      "File already exists: /ocean/projects/cis210093p/wartmann/MedSyn/results/ctrate/img_256_standard/train_1_a_1_counterf_2_sample_0.nii.gz\n",
      "num_samples: 1\n",
      "File already exists: /ocean/projects/cis210093p/wartmann/MedSyn/results/ctrate/img_256_standard/train_100_a_1_counterf_1_sample_0.nii.gz\n",
      "num_samples: 1\n",
      "File already exists: /ocean/projects/cis210093p/wartmann/MedSyn/results/ctrate/img_256_standard/train_1000_a_1_sample_2.nii.gz\n",
      "num_samples: 1\n",
      "File already exists: /ocean/projects/cis210093p/wartmann/MedSyn/results/ctrate/img_256_standard/train_10_a_1_sample_2.nii.gz\n",
      "num_samples: 1\n",
      "File already exists: /ocean/projects/cis210093p/wartmann/MedSyn/results/ctrate/img_256_standard/train_10_a_1_sample_0.nii.gz\n"
     ]
    }
   ],
   "source": [
    "from video_diffusion_pytorch_SR_continuous_no_temp_attn_and_text_seg_eval import run_diffusion_2\n",
    "\n",
    "## Note: need to relaod kernel, since accelerate is a singleton and cont be used with different mixed precission\n",
    "run_diffusion_2(input_folder='/ocean/projects/cis210093p/wartmann/MedSyn/results/ctrate/img_64_standard', \n",
    "                output_folder='/ocean/projects/cis210093p/wartmann/MedSyn/results/ctrate/img_256_standard/', \n",
    "                model_folder='/ocean/projects/cis210093p/wartmann/MedSyn/models/medsyn_params/stage2')"
   ]
  }
 ],
 "metadata": {
  "kernelspec": {
   "display_name": "medsyn-backend",
   "language": "python",
   "name": "python3"
  },
  "language_info": {
   "codemirror_mode": {
    "name": "ipython",
    "version": 3
   },
   "file_extension": ".py",
   "mimetype": "text/x-python",
   "name": "python",
   "nbconvert_exporter": "python",
   "pygments_lexer": "ipython3",
   "version": "3.12.4"
  }
 },
 "nbformat": 4,
 "nbformat_minor": 5
}
