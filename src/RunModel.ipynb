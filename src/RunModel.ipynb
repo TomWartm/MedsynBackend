{
 "cells": [
  {
   "cell_type": "code",
   "execution_count": 2,
   "id": "5d3a0721",
   "metadata": {},
   "outputs": [],
   "source": [
    "from extract_text import TextExtractor"
   ]
  },
  {
   "cell_type": "markdown",
   "id": "88dafa64",
   "metadata": {},
   "source": [
    "## Text Extraction"
   ]
  },
  {
   "cell_type": "code",
   "execution_count": 3,
   "id": "97728b07",
   "metadata": {},
   "outputs": [
    {
     "name": "stderr",
     "output_type": "stream",
     "text": [
      "/home/exouser/miniconda3/envs/medsyn-3-8/lib/python3.8/site-packages/huggingface_hub/file_download.py:1132: FutureWarning: `resume_download` is deprecated and will be removed in version 1.0.0. Downloads always resume when possible. If you want to force a new download, use `force_download=True`.\n",
      "  warnings.warn(\n",
      "Some weights of CXRBertModel were not initialized from the model checkpoint at microsoft/BiomedVLP-CXR-BERT-specialized and are newly initialized: ['classifier.bias', 'classifier.weight']\n",
      "You should probably TRAIN this model on a down-stream task to be able to use it for predictions and inference.\n"
     ]
    },
    {
     "name": "stdout",
     "output_type": "stream",
     "text": [
      "<All keys matched successfully>\n",
      "(1, 192, 768)\n",
      "Saved to: /media/volume/gen-ai-volume/MedSyn/results/text_embed/final_test.npy\n"
     ]
    }
   ],
   "source": [
    "impressions=\"Cardiomegaly, minimal pericardial-pleural effusion.\"\n",
    "output_folder = \"/media/volume/gen-ai-volume/MedSyn/results/text_embed\"  \n",
    "file_name='final_test.npy'\n",
    "text_extractor = TextExtractor(resume_model=\"/media/volume/gen-ai-volume/MedSyn/models/test_run2\")\n",
    "text_extractor.run(impressions, output_folder, file_name)"
   ]
  },
  {
   "cell_type": "markdown",
   "id": "15867e0e",
   "metadata": {},
   "source": [
    "# Low Res\n"
   ]
  },
  {
   "cell_type": "code",
   "execution_count": 4,
   "id": "f7880572",
   "metadata": {},
   "outputs": [
    {
     "name": "stdout",
     "output_type": "stream",
     "text": [
      "loading low-res model...\n",
      "File already exists: /media/volume/gen-ai-volume/MedSyn/results/img_64_standard/20240708182336NoCardiome_sample_0.npy\n",
      "Low Resolution: 100%|██████████| 51/51 [00:13<00:00,  3.66it/s]\n",
      "File already exists: /media/volume/gen-ai-volume/MedSyn/results/img_64_standard/dont_delete_sample_0.npy\n",
      "File already exists: /media/volume/gen-ai-volume/MedSyn/results/img_64_standard/20240708182825Nodulesint_sample_0.npy\n"
     ]
    }
   ],
   "source": [
    "from stage1 import run_diffusion_1\n",
    "import accelerate\n",
    "accelerate.state.AcceleratorState._shared_state.clear() # dirty hack to reset accelerator state\n",
    "run_diffusion_1(input_folder=\"/media/volume/gen-ai-volume/MedSyn/results/text_embed\", #  \"/ocean/projects/cis210093p/wartmann/MedSyn/results/ctrate/text_embed\"\n",
    "                output_folder= \"/media/volume/gen-ai-volume/MedSyn/results/img_64_standard\", # '/ocean/projects/cis210093p/wartmann/MedSyn/results/ctrate/img_64_standard'\n",
    "                model_folder=\"/media/volume/gen-ai-volume/MedSyn/models/stage1\", # '/ocean/projects/cis210093p/wartmann/MedSyn/models/medsyn_params/stage1'\n",
    "                num_sample=1)"
   ]
  },
  {
   "cell_type": "markdown",
   "id": "918fd08a",
   "metadata": {},
   "source": [
    "# High res"
   ]
  },
  {
   "cell_type": "code",
   "execution_count": 5,
   "id": "89a46208",
   "metadata": {},
   "outputs": [
    {
     "name": "stdout",
     "output_type": "stream",
     "text": [
      "Number of parameters: 54307908\n",
      "Map Location: cuda\n",
      "Model path: /media/volume/gen-ai-volume/MedSyn/models/stage2/1000_ckpt/pytorch_model.bin\n"
     ]
    },
    {
     "name": "stderr",
     "output_type": "stream",
     "text": [
      "Loading dataset: 100%|██████████| 4/4 [00:00<00:00, 270.82it/s]\n"
     ]
    },
    {
     "name": "stdout",
     "output_type": "stream",
     "text": [
      "found 4 videos as gif files at /media/volume/gen-ai-volume/MedSyn/results/img_64_standard\n",
      "loading model...\n",
      "Load accelerator state: /media/volume/gen-ai-volume/MedSyn/models/stage2/1000_ckpt\n",
      "training model...\n",
      "num_samples: 1\n",
      "File already exists: /media/volume/gen-ai-volume/MedSyn/results/img_256_standard/dont_delete_sample_0.nii.gz\n",
      "num_samples: 1\n",
      "File already exists: /media/volume/gen-ai-volume/MedSyn/results/img_256_standard/20240708182825Nodulesint_sample_0.nii.gz\n",
      "num_samples: 1\n",
      "High Resolution: 100%|██████████| 21/21 [01:32<00:00,  4.41s/it]\n",
      "num_samples: 1\n",
      "File already exists: /media/volume/gen-ai-volume/MedSyn/results/img_256_standard/20240708182336NoCardiome_sample_0.nii.gz\n"
     ]
    }
   ],
   "source": [
    "from stage2 import run_diffusion_2\n",
    "import accelerate\n",
    "accelerate.state.AcceleratorState._shared_state.clear() # dirty hack to reset accelerator state\n",
    "\n",
    "run_diffusion_2(input_folder=\"/media/volume/gen-ai-volume/MedSyn/results/img_64_standard\", #  '/ocean/projects/cis210093p/wartmann/MedSyn/results/ctrate/img_64_standard'\n",
    "                output_folder=\"/media/volume/gen-ai-volume/MedSyn/results/img_256_standard/\", #  '/ocean/projects/cis210093p/wartmann/MedSyn/results/ctrate/img_256_standard/'\n",
    "                model_folder=\"/media/volume/gen-ai-volume/MedSyn/models/stage2\") #  '/ocean/projects/cis210093p/wartmann/MedSyn/models/medsyn_params/stage2'"
   ]
  }
 ],
 "metadata": {
  "kernelspec": {
   "display_name": "medsyn-backend",
   "language": "python",
   "name": "python3"
  },
  "language_info": {
   "codemirror_mode": {
    "name": "ipython",
    "version": 3
   },
   "file_extension": ".py",
   "mimetype": "text/x-python",
   "name": "python",
   "nbconvert_exporter": "python",
   "pygments_lexer": "ipython3",
   "version": "3.8.19"
  }
 },
 "nbformat": 4,
 "nbformat_minor": 5
}
